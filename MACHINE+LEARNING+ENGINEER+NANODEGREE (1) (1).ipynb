{
 "cells": [
  {
   "cell_type": "markdown",
   "metadata": {},
   "source": [
    "## CAPSTONE PROJECT ##"
   ]
  },
  {
   "cell_type": "markdown",
   "metadata": {},
   "source": [
    "## Predicting TheChance Of Admit For The Students of India Aspiring For Masters Program abroad ##"
   ]
  },
  {
   "cell_type": "markdown",
   "metadata": {},
   "source": [
    "#### MADHU KIRAN VARMA"
   ]
  },
  {
   "cell_type": "markdown",
   "metadata": {},
   "source": [
    "#### June 13th, 2018"
   ]
  },
  {
   "cell_type": "markdown",
   "metadata": {},
   "source": [
    "## DEFINITION"
   ]
  },
  {
   "cell_type": "markdown",
   "metadata": {},
   "source": [
    "#### PROJECT OVERVIEW"
   ]
  },
  {
   "cell_type": "markdown",
   "metadata": {},
   "source": [
    "* In India Pursuing a Masters Degree abroad is a dream for every individual who aspires to advance the vision in his domain immediately after the Under-Graduation. \n",
    "\n",
    "* Hence an analysis is made by Mohan S. Acharya, which was posted in Kaggle. \n",
    "**Source :- https://www.kaggle.com/mohansacharya/graduate-admissions **\n",
    "\n",
    "* By the sheer exploration of the data it is possible to develop certain rating based on the related charactersitics or features which can be used to help students in shortlisting-universities and the rating gives an insight to the individual about a clear idea about their scope or chances for an admission in a specific university of their desire.\n",
    "\n",
    "* Hence, in this project I developed a model that can predict the individuals chances of getting an admission into an abroad university through a score 'Chance Of Admit', based on his/her performance in the prerequisite examinations like GRE , TOEFL  and under graduate score , CGPA and additionally their research experience and ratings of factors that aid the admissions like Letter Of Recommendation(LOR) and Statement Of Purpose(SOP) and the rating of the university that the individual is willing to pursue his education."
   ]
  },
  {
   "cell_type": "markdown",
   "metadata": {},
   "source": [
    "#### PROBLEM STATEMENT"
   ]
  },
  {
   "cell_type": "markdown",
   "metadata": {},
   "source": [
    "** The goal is to develop a model that can predict the score 'Chance Of Admit', that determines an individuals chances of getting an admission in the university he desires to pursue his/her education.**\n",
    "* The tasks involved are :-\n",
    "  * Download and preprocess the Graduate Admissions data\n",
    "  * Train a BenchMark Model and record it's performance.\n",
    "  * Then three supervised learning models were trained using the training data and a comparision is done based on the performance metric and decided which among the three is the best model.\n",
    "  * The best model thus selected is optimized using GridSearchCV technique.\n",
    "  * The Optimized model is then compared with the Benchmark model and deciding which is the best for the given data.\n",
    "  * Then the best model is validated aganist unseen data and documenting the intuition.\n",
    "  \n",
    "* The final model can be applied to determine the Chance's for an individual of getting an admission into a specific university of his desire."
   ]
  },
  {
   "attachments": {
    "fed29779d54adeccdec58f0894870c680f3d6b5b.svg": {
     "image/svg+xml": [
      "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"
     ]
    }
   },
   "cell_type": "markdown",
   "metadata": {},
   "source": [
    "#### METRICS\n",
    "\n",
    "* The current problem is a Regression task, since it takes certain features as inputs and attempts to find a score that helps an individual to get an idea about the chances of getting an admission in a specific university.\n",
    "\n",
    "* Hence, Coefficient Of Determination is considered as the performance metric that can be applied to compare the performances of the scores obtained from the BenchMark and the Optimal Model considered.\n",
    "\n",
    "* The CoEfficient Of Determination(R^2) is the key output of the Regression Analysis.It can be defined as the proportion of the varaince in the dependent variable that is predictable from the independent variable.\n",
    "\n",
    "* It's values ranges from 0 to 1, and the results are given intuition by, if:-\n",
    "  * The value of R^2 -> 0 , indicates that the model is a worst fit to the given data.\n",
    "  * The value of R^2 -> 1 , indicates that the model is the best fit to the given data.\n",
    "  * The value of R^2 in between 0 and 1 -> indicates that the respective variability exhibited by the target variable.\n",
    "  \n",
    "* The formula for CoEfficient Of Determination(R^2) is given by :-\n",
    "![fed29779d54adeccdec58f0894870c680f3d6b5b.svg](attachment:fed29779d54adeccdec58f0894870c680f3d6b5b.svg)\n",
    "\n",
    "\n",
    "* From the above formula SSreg is called Sum of Squares of Residuals, also called the Residual Sum of Squares:\n",
    "**Source :-https://en.wikipedia.org/wiki/Residual_sum_of_squares**\n",
    "\n",
    "* And the SStot is called the Total Number of Squares.\n",
    "**Source :-https://en.wikipedia.org/wiki/Total_sum_of_squares**"
   ]
  },
  {
   "cell_type": "markdown",
   "metadata": {},
   "source": [
    "# LOADING THE REQUIRED DATA -> **DATA ACQUISITION **"
   ]
  },
  {
   "cell_type": "markdown",
   "metadata": {},
   "source": [
    "* Data Acquisition is one of the key steps in Machine Learning.\n",
    "* Since, it is more prerogative to understand the data or just to feed the data as an input to the specific Machine Learning Model is achievable only in a 'Tabular Sense' i.e., if the input dataset is converted to a tabular data, then it is more flexible for the model to build accurate predictions out of the perfected data format."
   ]
  },
  {
   "cell_type": "code",
   "execution_count": 763,
   "metadata": {},
   "outputs": [
    {
     "name": "stdout",
     "output_type": "stream",
     "text": [
      "Graduate Admissions dataset has 400 data points with 9 variables each.\n"
     ]
    }
   ],
   "source": [
    "# importing the necessary libraries for the project\n",
    "import numpy as np\n",
    "import time\n",
    "import pandas as pd\n",
    "import matplotlib.pyplot as plt\n",
    "import seaborn as sns\n",
    "from IPython.display import display #facilitates the use of display() for Data frames\n",
    "\n",
    "\n",
    "# loading the dataset intended to work out :) \n",
    "data = pd.read_csv('Admission_Predict.csv')\n",
    "print(\"Graduate Admissions dataset has {} data points with {} variables each.\".format(*data.shape))"
   ]
  },
  {
   "cell_type": "markdown",
   "metadata": {},
   "source": [
    "## DATA EXPLORATION ##"
   ]
  },
  {
   "cell_type": "markdown",
   "metadata": {},
   "source": [
    "** DATA EXPLORATION **\n",
    "\n",
    "* Data Exploration is a crucial step in the process of Machine Learning.It helps us to understand the patterns and available features in a data set from which we can determine the sort of actions that we can perform for further analysis.\n",
    "\n",
    "* Data Exploration gives an intuition that a cursory investigation of the data-set is necessary for familiarizing ourself with the data through an explorative process and is a fundamental practice to help you better understand and justify your results.\n",
    "\n",
    "* Since, the main goal of this project is construct a working model that has the capability of predicting the 'ChanceOfAdmit' scores, we will need to separate the dataset into features and the target variable."
   ]
  },
  {
   "cell_type": "code",
   "execution_count": 764,
   "metadata": {},
   "outputs": [
    {
     "data": {
      "text/html": [
       "<div>\n",
       "<style>\n",
       "    .dataframe thead tr:only-child th {\n",
       "        text-align: right;\n",
       "    }\n",
       "\n",
       "    .dataframe thead th {\n",
       "        text-align: left;\n",
       "    }\n",
       "\n",
       "    .dataframe tbody tr th {\n",
       "        vertical-align: top;\n",
       "    }\n",
       "</style>\n",
       "<table border=\"1\" class=\"dataframe\">\n",
       "  <thead>\n",
       "    <tr style=\"text-align: right;\">\n",
       "      <th></th>\n",
       "      <th>Serial No.</th>\n",
       "      <th>GRE Score</th>\n",
       "      <th>TOEFL Score</th>\n",
       "      <th>University Rating</th>\n",
       "      <th>SOP</th>\n",
       "      <th>LOR</th>\n",
       "      <th>CGPA</th>\n",
       "      <th>Research</th>\n",
       "      <th>Chance of Admit</th>\n",
       "    </tr>\n",
       "  </thead>\n",
       "  <tbody>\n",
       "    <tr>\n",
       "      <th>0</th>\n",
       "      <td>1</td>\n",
       "      <td>337</td>\n",
       "      <td>118</td>\n",
       "      <td>4</td>\n",
       "      <td>4.5</td>\n",
       "      <td>4.5</td>\n",
       "      <td>9.65</td>\n",
       "      <td>1</td>\n",
       "      <td>0.92</td>\n",
       "    </tr>\n",
       "  </tbody>\n",
       "</table>\n",
       "</div>"
      ],
      "text/plain": [
       "   Serial No.  GRE Score  TOEFL Score  University Rating  SOP  LOR   CGPA  \\\n",
       "0           1        337          118                  4  4.5   4.5  9.65   \n",
       "\n",
       "   Research  Chance of Admit   \n",
       "0         1              0.92  "
      ]
     },
     "metadata": {},
     "output_type": "display_data"
    }
   ],
   "source": [
    "display(data.head(1))"
   ]
  },
  {
   "cell_type": "markdown",
   "metadata": {},
   "source": [
    "* We can observe that the features, 'GRE Score' , 'TOEFL Score', 'University Rating' , 'SOP' , 'LOR' , 'CGPA' , 'Research' give us with the quantitative information about each data point.\n",
    "\n",
    "* The target varaible, 'Chance of Admit', will be the variable we intend to predict. These are stored in the varaibles features and scores respectively"
   ]
  },
  {
   "cell_type": "code",
   "execution_count": 765,
   "metadata": {},
   "outputs": [],
   "source": [
    "# Extracting information by separating the features and the target varaible\n",
    "# Here 'scores -> target variable.\n",
    "# 'features' -> fundamental elements of the dataset\n",
    "# the below for loop is to navigate to the last column of the dataset where we will have 'Chance Of Admit' data\n",
    "for i in data.columns:\n",
    "    k = i\n",
    "\n",
    "scores = data[k] #target variable\n",
    "features = data.drop(k, axis = 1) #input features"
   ]
  },
  {
   "cell_type": "markdown",
   "metadata": {},
   "source": [
    "** Calculating the necessary statistics needed : **\n",
    "\n",
    "* For the initial coding implementation, calculating descriptive statistics about the Chance of Admit Scores is important.These statistics will be extremely important later on to analyze various prediction results from the constructed model."
   ]
  },
  {
   "cell_type": "code",
   "execution_count": 766,
   "metadata": {},
   "outputs": [
    {
     "name": "stdout",
     "output_type": "stream",
     "text": [
      "Statistics for Graduate Admissions Data Set:\n",
      "\n",
      "Total Number of records : 400\n",
      "Minimum score: 0.34\n",
      "Maximum score: 0.97\n",
      "Mean score: 0.72\n",
      "Median score: 0.73\n",
      "Standard deviation of scores: 0.14\n"
     ]
    }
   ],
   "source": [
    "# the below for loop is to navigate to the last column of the dataset where we will have 'Chance Of Admit' data\n",
    "for i in data.columns:\n",
    "    k = i\n",
    "# The total number of records in the data\n",
    "n_records = len(data)\n",
    "\n",
    "# Minimum score of the data\n",
    "minimum_score = np.min(data[k])\n",
    "\n",
    "# Maximum score of the data\n",
    "maximum_score = np.max(data[k])\n",
    "\n",
    "# Mean score of the data\n",
    "mean_score = np.mean(data[k])\n",
    "\n",
    "# Median score of the data\n",
    "median_score = np.median(data[k])\n",
    "\n",
    "# Standard deviation of scores of the data\n",
    "std_score = np.std(data[k])\n",
    "\n",
    "# Showing the calculated statistics\n",
    "print(\"Statistics for Graduate Admissions Data Set:\\n\")\n",
    "print(\"Total Number of records : {}\".format(n_records))\n",
    "print(\"Minimum score: {:,.2f}\".format(minimum_score)) \n",
    "print(\"Maximum score: {:,.2f}\".format(maximum_score))\n",
    "print(\"Mean score: {:,.2f}\".format(mean_score))\n",
    "print(\"Median score: {:,.2f}\".format(median_score))\n",
    "print(\"Standard deviation of scores: {:,.2f}\".format(std_score))\n",
    "#print features"
   ]
  },
  {
   "cell_type": "markdown",
   "metadata": {},
   "source": [
    "** Feature Set Exploration :-**\n",
    "\n",
    "* Serial Number -> it is just to show the number of students from which the data was collected on.\n",
    "* GRE(Graduate Recruitment Exam) Scores (out of 340) is a score that enables an individual to get admission in top universities-> continuous\n",
    "* TOEFL(Test For English As Foreign Language) Scores (out of 120) is a score that determines the individuals knowledge and speaking English-> continuous\n",
    "* University Rating (out of 5) is a score that states the ranking of a university based on the facilities and other factors-> continuous\n",
    "* Statement of Purpose (out of 5) is a long essay that is often asked by the universities abroad-> continuous\n",
    "* Letter of Recommendation and Strength is a document in which the writer assesses the qualities, characteristics, and capabilities of the person being recommended in terms of that individual's ability to perform a particular task or function.(out of 5) -> continuous\n",
    "* Research Experience (either 0 or 1) is a discrete score that determines whether an individual has done a research priorly or not.-> discrete\n",
    "* Chance of Admit (ranging from 0 to 1) is a continuous score that predicts the probablity of an individual for being selected in a particular university -> continuous"
   ]
  },
  {
   "cell_type": "markdown",
   "metadata": {},
   "source": [
    "## Feature Observation:- ##\n",
    "\n",
    "** In this part of the project I'll explain the importance all the features that predominanty have an effect on the target variable :-**\n",
    "\n",
    "* 'Serial No.' is just to show the number of students from which the data was collected on and potentially shows no impact on the target variable i.e., it has no meaning and can be no harm if we remove it from the data set.\n",
    "\n",
    "* 'GRE Scores', are one of the predominant factors in the determination of an individual's chances for getting admission in a specific university. Since, GRE Scores determine the individuals capability to understand and manage the course curriculum or load. Hence a low or high score of the GRE scores can significantly affect the individuals chances for getting an admission.\n",
    "** Source :- http://scholarstrategy.com/importance-of-gpa-and-gre-scores-in-your-ms-applications/**\n",
    "\n",
    "* 'TOEFL Scores' , are also one of the significant factors the determination of an individual's chances for getting admission in a specific university.Since,TOEFL Scores determine the english speaking capability of a non-native individual. Hence, a low or high score may affect the individuals chances of admission\n",
    "**Source :- https://studyabroad.careers360.com/what-toefl-test**\n",
    "\n",
    "* 'University Rating', score that states the ranking of a university based on the facilities and other factors.It plays an important role in the individuals aspirations because the more the rating the higher the standard of education.\n",
    "** Source :- https://en.wikipedia.org/wiki/College_and_university_rankings**\n",
    "\n",
    "* 'Statement Of Purpose ' ,is a long essay that is often asked by the universities abroad,seeks to understand the candidate’s life, the motivations for the chosen career path and his/her goals. It is an important part of the application process but it is not that deterministic in our current scenario, since, we  only describe the zeal of the individuals who are aspiring for a specific university.\n",
    "**Source :- https://studyabroad.shiksha.com/sop-statement-of-purpose-applycontent1701**\n",
    "\n",
    "* 'Letter Of Recommendation' , is a document in which the writer assesses the qualities, characteristics, and capabilities of the person being recommended in terms of that individual's ability to perform a particular task or function.It is crucial because it plays an important role in the admission to institutions of higher education, or scholarship eligibility.\n",
    "** Source :- https://en.wikipedia.org/wiki/Letter_of_recommendation**\n",
    "\n",
    "* 'Research' , that determines whether an individual has done a research priorly or not.It shows a good effect on the career chances for an indivdual.\n",
    "**Source :- https://www.phdstudent.com/Getting-Involved-in-Research/the-importance-of-research-to-grad-school-admission**\n",
    "\n",
    "* Chance Of Admit' , is target variable and that we are intended to find out. It determines the Probability of an individual being selected for the univerisity of his desire and it depends on certain important features that we are gonna find out later i the project."
   ]
  },
  {
   "cell_type": "markdown",
   "metadata": {},
   "source": [
    "## EXPLORATORY VISUALIZATION ##"
   ]
  },
  {
   "cell_type": "markdown",
   "metadata": {},
   "source": [
    "* Exploratory Visualization can be defined as an approach for analyzing data sets to summarize their important characteristics, often by the application of visual methods.\n",
    "\n",
    "* The Primary theme of Exploratory Visualization is for observing what the data can give us an intuition far beyond the conventional modeling or hypothesis testing tasks."
   ]
  },
  {
   "cell_type": "markdown",
   "metadata": {},
   "source": [
    "**The Following session of Data Visualization will provide the intuition of how each feature is 'Correlated' with the target varaible 'Chance of Admit'**"
   ]
  },
  {
   "cell_type": "markdown",
   "metadata": {},
   "source": [
    "**Correlation of 'GRE Score' with respect to 'Chance of Admit'**"
   ]
  },
  {
   "cell_type": "code",
   "execution_count": 502,
   "metadata": {},
   "outputs": [
    {
     "data": {
      "image/png": "[encoded data removed]",
      "text/plain": [
       "<matplotlib.figure.Figure at 0x15cf80d0>"
      ]
     },
     "metadata": {},
     "output_type": "display_data"
    }
   ],
   "source": [
    "# the below for loop is to navigate to the last column of the dataset where we will have 'Chance Of Admit' data\n",
    "for i in data.columns:\n",
    "    k = i\n",
    "plt.scatter(data['GRE Score'],data[k])\n",
    "plt.xlabel('GRE Scores')\n",
    "plt.ylabel('Chance Of Admit')\n",
    "plt.show()"
   ]
  },
  {
   "cell_type": "markdown",
   "metadata": {},
   "source": [
    "** Explanation :-**\n",
    "* It is quite evident that the scores of 'GRE Scores' and 'Chance of Admit' are highly correlated i.e., Chances of Admit are high as the GRE Score is trending to nice scores.\n",
    "\n",
    "* Hence it is an important factor in the determination of the chances of admission to a specific university in the perspective of an individual."
   ]
  },
  {
   "cell_type": "markdown",
   "metadata": {},
   "source": [
    "**Correlation of 'TOEFL Score' with respect to 'Chance of Admit'**"
   ]
  },
  {
   "cell_type": "code",
   "execution_count": 503,
   "metadata": {},
   "outputs": [
    {
     "data": {
      "image/png": "[encoded data removed]",
      "text/plain": [
       "<matplotlib.figure.Figure at 0x13860810>"
      ]
     },
     "metadata": {},
     "output_type": "display_data"
    }
   ],
   "source": [
    "plt.scatter(data['TOEFL Score'],data[k])\n",
    "plt.xlabel('TOEFL Score')\n",
    "plt.ylabel('Chance Of Admit')\n",
    "plt.show()"
   ]
  },
  {
   "cell_type": "markdown",
   "metadata": {},
   "source": [
    "** Explanation:- **"
   ]
  },
  {
   "cell_type": "markdown",
   "metadata": {},
   "source": [
    "* It is quite evident that the scores of 'TOEFL Scores' and 'Chance of Admit' are highly correlated i.e., Chances of Admit are high as the GRE Score is trending to nice scores.\n",
    "\n",
    "* Hence it is an important factor in the determination of the chances of admission to a specific university in the perspective of an individual."
   ]
  },
  {
   "cell_type": "markdown",
   "metadata": {},
   "source": [
    "**Correlation of 'University Rating' with respect to 'Chance of Admit'**"
   ]
  },
  {
   "cell_type": "code",
   "execution_count": 295,
   "metadata": {},
   "outputs": [
    {
     "data": {
      "image/png": "[encoded data removed]",
      "text/plain": [
       "<matplotlib.figure.Figure at 0x17d93430>"
      ]
     },
     "metadata": {},
     "output_type": "display_data"
    }
   ],
   "source": [
    "sns.set(style = 'whitegrid')\n",
    "plt.scatter(data['University Rating'],data[k])\n",
    "plt.xlabel('University Rating')\n",
    "plt.ylabel('Chance Of Admit')\n",
    "plt.show()"
   ]
  },
  {
   "cell_type": "markdown",
   "metadata": {},
   "source": [
    "** Explanation:- **\n",
    "\n",
    "* It intuitively shows the intimate relationship between the 'University Rating' and the 'Chance of Admit'.\n",
    "* It seems that most of the people who are admitted for a certain university is predominantly concentrated between University Rating '2.0' and '4.0'."
   ]
  },
  {
   "cell_type": "markdown",
   "metadata": {},
   "source": [
    "**Correlation of 'Statement of Purpose' with respect to 'Chance of Admit'**"
   ]
  },
  {
   "cell_type": "code",
   "execution_count": 296,
   "metadata": {},
   "outputs": [
    {
     "data": {
      "image/png": "[encoded data removed]",
      "text/plain": [
       "<matplotlib.figure.Figure at 0x17da2250>"
      ]
     },
     "metadata": {},
     "output_type": "display_data"
    }
   ],
   "source": [
    "plt.scatter(data['SOP'],data[k])\n",
    "plt.xlabel('Statement of Purpose')\n",
    "plt.ylabel('Chance Of Admit')\n",
    "plt.show()"
   ]
  },
  {
   "cell_type": "markdown",
   "metadata": {},
   "source": [
    "**Explanation :- **\n",
    "\n",
    "* It describes the skill of an individual to write effectively to an abroad university regarding his life style, motivation for choosen career path and his/her goals."
   ]
  },
  {
   "cell_type": "markdown",
   "metadata": {},
   "source": [
    "**Correlation of 'LOR' with respect to 'Chance of Admit'**"
   ]
  },
  {
   "cell_type": "code",
   "execution_count": 297,
   "metadata": {},
   "outputs": [
    {
     "data": {
      "image/png": "[encoded data removed]",
      "text/plain": [
       "<matplotlib.figure.Figure at 0x17feb850>"
      ]
     },
     "metadata": {},
     "output_type": "display_data"
    }
   ],
   "source": [
    "# below for loop is to obtain the index of 'LOR' in the dataset\n",
    "j = 0\n",
    "for i in data.columns:\n",
    "    if j == 5:\n",
    "        n = i\n",
    "    j += 1\n",
    "#print data[n]\n",
    "# visualizations\n",
    "plt.scatter(data[n],data[k])\n",
    "plt.xlabel('Letter of Recommendation')\n",
    "plt.ylabel('Chance Of Admit')\n",
    "plt.show()"
   ]
  },
  {
   "cell_type": "markdown",
   "metadata": {},
   "source": [
    "**Explanation :- **\n",
    "* It describes a sheer intuition that the Letter Of Recommendation shows a striking factor in influencing an individuals over all chances for getting admission in a specific university."
   ]
  },
  {
   "cell_type": "markdown",
   "metadata": {},
   "source": [
    "**Correlation of 'CGPA' with respect to 'Chance of Admit'**"
   ]
  },
  {
   "cell_type": "code",
   "execution_count": 298,
   "metadata": {},
   "outputs": [
    {
     "data": {
      "image/png": "[encoded data removed]",
      "text/plain": [
       "<matplotlib.figure.Figure at 0x184030b0>"
      ]
     },
     "metadata": {},
     "output_type": "display_data"
    }
   ],
   "source": [
    "plt.scatter(data['CGPA'],data[k])\n",
    "plt.xlabel('CGPA')\n",
    "plt.ylabel('Chance Of Admit')\n",
    "plt.show()"
   ]
  },
  {
   "cell_type": "markdown",
   "metadata": {},
   "source": [
    "**Explanation :- **\n",
    "* It clearly shows that the individuals who got higher scores in their Under Graduation, have higher scope of getting admission in a desired university."
   ]
  },
  {
   "cell_type": "markdown",
   "metadata": {},
   "source": [
    "**Correlation of 'Research' with respect to 'Chance of Admit'**"
   ]
  },
  {
   "cell_type": "code",
   "execution_count": 299,
   "metadata": {},
   "outputs": [
    {
     "data": {
      "image/png": "[encoded data removed]",
      "text/plain": [
       "<matplotlib.figure.Figure at 0x17bd9770>"
      ]
     },
     "metadata": {},
     "output_type": "display_data"
    }
   ],
   "source": [
    "plt.scatter(data['Research'],data[k])\n",
    "plt.xlabel('Research')\n",
    "plt.ylabel('Chance Of Admit')\n",
    "plt.show()"
   ]
  },
  {
   "cell_type": "markdown",
   "metadata": {},
   "source": [
    "**Explanation :-**\n",
    "* From this we can understand that the students who don't pursue a Research in their career before going to a Masters Program may also possess a good chance of getting admitted to a specific university of their desire.\n",
    "\n",
    "* And it also states how the chances predominantly increased with the pursuing of Research in thier career before going to a Masters Program."
   ]
  },
  {
   "cell_type": "markdown",
   "metadata": {},
   "source": [
    "**Intuition :-**\n",
    "\n",
    "\n",
    "** From these scatter plots, we can understand the exceptional relationships between the features and the target variable.Hence we can state that the data is consistent and show's striking relationships that could make the model more accurate and reliable for predicting the data values that are new and novel to the model.**"
   ]
  },
  {
   "cell_type": "markdown",
   "metadata": {},
   "source": [
    "## DATA PREPROCESSING ##"
   ]
  },
  {
   "cell_type": "markdown",
   "metadata": {},
   "source": [
    "* Data Preprocessing is one of the key procedures in Machine Learning that involves transforming the raw input data into an understanable format.\n",
    "\n",
    "* This step is quite crucial because the Real-World data is often incomplete and inconsistent, or lacking in certain behaviours or trends, and is most probably consists of many errors.\n",
    "\n",
    "* Data Preprocessing is a proven procedure for solving this problems and it prepares raw data for further processing.\n",
    "\n",
    "* In the current problem an irrelevant feature is present that is 'Serial No',which actually plays no role in the determination of the 'Chance Of Admit' rate.Hence, it is quite valid to remove it from the dataset.\n",
    "\n",
    "\n",
    "**Process of Data Preprocessing :-**\n",
    "\n",
    "* A typical data preprocessing procedure has the following criteria :-\n",
    "\n",
    "    * Incomplete: lacking attribute values, lacking certain attributes of interest, or containing only aggregate data.\n",
    "    * Noisy: containing errors or outliers.\n",
    "    * Inconsistent: containing discrepancies in codes or names.\n",
    "\n",
    "\n",
    "**Tasks in data preprocessing:-**\n",
    "\n",
    "* Data cleaning: fill in missing values, smooth noisy data, identify or remove outliers, and resolve inconsistencies.\n",
    "* Data discretization: part of data reduction, replacing numerical attributes with nominal ones.\n",
    "* Data integration: using multiple databases, data cubes, or files.\n",
    "* Data transformation: normalization and aggregation.\n",
    "* Data reduction: reducing the volume but producing the same or similar analytical results.\n",
    "\n",
    "\n",
    "** Feature Selection :-**\n",
    "* Feature Selection is an important concept in the Data Preprocessing phase which involves the removal of irrelevant attributes and retaining only those features that have show better performance.\n",
    "\n",
    "* I implemented Feature Selection using a Linear Regressor, the benchmark model that i used to prune the features that acutally have a lower rank of performance.\n",
    "\n",
    "* Recursive Feature Elimination(RFE) uses a model (here Linear Regressor) to select either the best or worst performing feature, and then simples prunes the feature. After this the entire process is iterated until all the features in the data set are used up(limit).\n",
    "\n",
    "* Sklearn has an inbuilt RFE function i.e., sklearn.feature_selection and I'm using this along with my Linear Regressor Model."
   ]
  },
  {
   "cell_type": "code",
   "execution_count": 767,
   "metadata": {
    "collapsed": true
   },
   "outputs": [],
   "source": [
    "# storing the associated ranks of the features.\n",
    "from sklearn.preprocessing import MinMaxScaler\n",
    "ranks = {}\n",
    "# Creating a function which stores the feature rankings to the ranks dictionary\n",
    "def ranking(ranks, names, order=1):\n",
    "    min_max = MinMaxScaler()\n",
    "    ranks = min_max.fit_transform(order*np.array([ranks]).T).T[0]\n",
    "    ranks = map(lambda m: round(m,4), ranks)\n",
    "    return dict(zip(names, ranks))"
   ]
  },
  {
   "cell_type": "code",
   "execution_count": 768,
   "metadata": {},
   "outputs": [
    {
     "name": "stdout",
     "output_type": "stream",
     "text": [
      "Fitting estimator with 8 features.\n",
      "Fitting estimator with 7 features.\n",
      "Fitting estimator with 6 features.\n",
      "Fitting estimator with 5 features.\n",
      "Fitting estimator with 4 features.\n",
      "Fitting estimator with 3 features.\n",
      "Fitting estimator with 2 features.\n"
     ]
    }
   ],
   "source": [
    "# implementing feature selection using RFE\n",
    "f= features\n",
    "v = scores\n",
    "# import RFE from sklearn.feature_selection\n",
    "from sklearn.feature_selection import RFE\n",
    "\n",
    "# using a linear regressor\n",
    "lr = LinearRegression(normalize=True)\n",
    "\n",
    "# stop the search when only the last feature is left\n",
    "rfe = RFE(lr, n_features_to_select=1,verbose=3,step=1)\n",
    "\n",
    "rfe.fit(f,v)\n",
    "\n",
    "#print(rfe.ranking_)\n",
    "\n",
    "ranks[\"RFE\"] = ranking(list(map(float, rfe.ranking_)), data.columns, order=-1)"
   ]
  },
  {
   "cell_type": "code",
   "execution_count": 769,
   "metadata": {},
   "outputs": [
    {
     "name": "stdout",
     "output_type": "stream",
     "text": [
      "{'RFE': {'CGPA': 1.0, 'Research': 0.8571, 'TOEFL Score': 0.4286, 'GRE Score': 0.2857, 'SOP': 0.0, 'University Rating': 0.5714, 'Serial No.': 0.1429, 'LOR ': 0.7143}}\n"
     ]
    }
   ],
   "source": [
    "# Printing the ranks of the respective features :-\n",
    "#print(rfe.ranking_)\n",
    "print(ranks)\n",
    "#print(features)"
   ]
  },
  {
   "cell_type": "markdown",
   "metadata": {},
   "source": [
    "**Observation:-**\n",
    "* Hence, by this intuition I came to the conclusion that the features with worst ranking i.e., the features having the rank with highest values are literally pruned from the dataset.\n",
    "\n",
    "* Here, we observe that the feature obviuosly 'Serial No.' although having a good rank, it potentially adds nothing to the value of determining the score of 'Chance of Admit'.\n",
    "\n",
    "* Although the features such as 'CGPA' , 'Research' 'SOP' are given high scores, since they are key factors in determining an individuals personal qualification for getting a fair admission and the universities in abroad have a different set of factors to consider from an individual before providing the admission. As the 'CGPA' ,'SOP' and 'Research' are the key elements in providing an individual scholarships and other benefits, it worth not to ignore them.\n",
    "\n",
    "* Hence, I decided to remove 'Serial No.' attribute from the dataset."
   ]
  },
  {
   "cell_type": "markdown",
   "metadata": {},
   "source": [
    "** Removing Irrelevant attribute 'Serial No.' from the data set**"
   ]
  },
  {
   "cell_type": "code",
   "execution_count": 770,
   "metadata": {},
   "outputs": [
    {
     "name": "stdout",
     "output_type": "stream",
     "text": [
      "     GRE Score  TOEFL Score  University Rating  SOP  LOR   CGPA  Research\n",
      "0          337          118                  4  4.5   4.5  9.65         1\n",
      "1          324          107                  4  4.0   4.5  8.87         1\n",
      "2          316          104                  3  3.0   3.5  8.00         1\n",
      "3          322          110                  3  3.5   2.5  8.67         1\n",
      "4          314          103                  2  2.0   3.0  8.21         0\n",
      "5          330          115                  5  4.5   3.0  9.34         1\n",
      "6          321          109                  3  3.0   4.0  8.20         1\n",
      "7          308          101                  2  3.0   4.0  7.90         0\n",
      "8          302          102                  1  2.0   1.5  8.00         0\n",
      "9          323          108                  3  3.5   3.0  8.60         0\n",
      "10         325          106                  3  3.5   4.0  8.40         1\n",
      "11         327          111                  4  4.0   4.5  9.00         1\n",
      "12         328          112                  4  4.0   4.5  9.10         1\n",
      "13         307          109                  3  4.0   3.0  8.00         1\n",
      "14         311          104                  3  3.5   2.0  8.20         1\n",
      "15         314          105                  3  3.5   2.5  8.30         0\n",
      "16         317          107                  3  4.0   3.0  8.70         0\n",
      "17         319          106                  3  4.0   3.0  8.00         1\n",
      "18         318          110                  3  4.0   3.0  8.80         0\n",
      "19         303          102                  3  3.5   3.0  8.50         0\n",
      "20         312          107                  3  3.0   2.0  7.90         1\n",
      "21         325          114                  4  3.0   2.0  8.40         0\n",
      "22         328          116                  5  5.0   5.0  9.50         1\n",
      "23         334          119                  5  5.0   4.5  9.70         1\n",
      "24         336          119                  5  4.0   3.5  9.80         1\n",
      "25         340          120                  5  4.5   4.5  9.60         1\n",
      "26         322          109                  5  4.5   3.5  8.80         0\n",
      "27         298           98                  2  1.5   2.5  7.50         1\n",
      "28         295           93                  1  2.0   2.0  7.20         0\n",
      "29         310           99                  2  1.5   2.0  7.30         0\n",
      "..         ...          ...                ...  ...   ...   ...       ...\n",
      "370        310          103                  2  2.5   2.5  8.24         0\n",
      "371        324          110                  3  3.5   3.0  9.22         1\n",
      "372        336          119                  4  4.5   4.0  9.62         1\n",
      "373        321          109                  3  3.0   3.0  8.54         1\n",
      "374        315          105                  2  2.0   2.5  7.65         0\n",
      "375        304          101                  2  2.0   2.5  7.66         0\n",
      "376        297           96                  2  2.5   2.0  7.43         0\n",
      "377        290          100                  1  1.5   2.0  7.56         0\n",
      "378        303           98                  1  2.0   2.5  7.65         0\n",
      "379        311           99                  1  2.5   3.0  8.43         1\n",
      "380        322          104                  3  3.5   4.0  8.84         1\n",
      "381        319          105                  3  3.0   3.5  8.67         1\n",
      "382        324          110                  4  4.5   4.0  9.15         1\n",
      "383        300          100                  3  3.0   3.5  8.26         0\n",
      "384        340          113                  4  5.0   5.0  9.74         1\n",
      "385        335          117                  5  5.0   5.0  9.82         1\n",
      "386        302          101                  2  2.5   3.5  7.96         0\n",
      "387        307          105                  2  2.0   3.5  8.10         0\n",
      "388        296           97                  2  1.5   2.0  7.80         0\n",
      "389        320          108                  3  3.5   4.0  8.44         1\n",
      "390        314          102                  2  2.0   2.5  8.24         0\n",
      "391        318          106                  3  2.0   3.0  8.65         0\n",
      "392        326          112                  4  4.0   3.5  9.12         1\n",
      "393        317          104                  2  3.0   3.0  8.76         0\n",
      "394        329          111                  4  4.5   4.0  9.23         1\n",
      "395        324          110                  3  3.5   3.5  9.04         1\n",
      "396        325          107                  3  3.0   3.5  9.11         1\n",
      "397        330          116                  4  5.0   4.5  9.45         1\n",
      "398        312          103                  3  3.5   4.0  8.78         0\n",
      "399        333          117                  4  5.0   4.0  9.66         1\n",
      "\n",
      "[400 rows x 7 columns]\n"
     ]
    }
   ],
   "source": [
    "# Removing 'Serial No.' from the data set.\n",
    "features = features.drop('Serial No.',axis=1)\n",
    "# Fresh features after the irrelevant attribute removal \n",
    "print(features)"
   ]
  },
  {
   "cell_type": "markdown",
   "metadata": {},
   "source": [
    "## ALGORITHMS AND TECHNIQUES ##"
   ]
  },
  {
   "cell_type": "markdown",
   "metadata": {},
   "source": [
    "** By observing the problem, it is quite evident that it is a 'Regression' Problem.**\n",
    "\n",
    "\n",
    "** It is important to understand the intuition behind the consideration of specific model, since it has to generate an optimal possibility of results that can improve the model's performance on a sample of new data.**\n",
    "\n",
    "\n",
    "** Hence, taking the performance of the model into consideration, I chose three Supervised Machine Learning Algorithms that can be better compatible for the data being available.**\n",
    "\n",
    "** They are :-**\n",
    "   * Decision Trees\n",
    "   * Ensemble Methods - Random Forests\n",
    "   * Support Vector Machines (SVM)"
   ]
  },
  {
   "cell_type": "markdown",
   "metadata": {},
   "source": [
    "**Decision Trees:-**\n",
    "\n",
    "* Decision Trees are very flexible,easy to understand and easy to debug.They usually work on Classification and Regression Problems i.e.,for categorical problems having [green,red,blue..etc.] and continuous inputs like [2.9,3.8..etc].They usually cover both the perspectives. \n",
    "\n",
    "* It divides the  dataset into smaller and smaller subsets while at the same time an associated decision tree is incrementally developed. The final result is a tree with decision nodes and leaf nodes. A decision node has two or more branches, each representing values for the attribute tested. Leaf node represents a decision on the numerical target. The topmost decision node in a tree which corresponds to the best predictor called root node. Decision trees can handle both categorical and numerical data.\n",
    "\n",
    "* As the given data is comprised of continuous features,Decision Trees perform well in regression tasks.\n",
    "\n",
    "**Ensemble Methods - Random Forests :-**\n",
    "\n",
    "* Random forests are an ensemble learning method for classification, regression and other tasks, that operate by constructing a multitude of decision trees at training time and outputting the class that is the mode of the classes in case of the classification tasks or mean prediction for the regression tasks of the individual trees.\n",
    "\n",
    "* The Random forests have a stroke of brilliance when a performance optimization happens to enhance precision of the model, or vice versa.Tuning down the fraction of features that is considered at any given node can let you easily work on datasets with thousands of features.\n",
    "\n",
    "* Since Random Forests perform well on almost every machine learning problem and they also show less overfit behavior when compared to Decision Trees. Since our problem is composed of a lot of continuous features for which Random Forests  serve a better choice.\n",
    "\n",
    "**Support Vector Machines :-**\n",
    "\n",
    "* SVM's are simple,accurate and perform well on smaller and cleaner datasets.It can be more efficient as it uses subset of training points.\n",
    "\n",
    "* The Support Vector Regression (SVR) uses the same principles as the SVM for classification, with only a few minor differences. Initially as the output is a real number and continuous it becomes very difficult to predict the information at hand, which has infinite possibilities.\n",
    "\n",
    "* In the case of regression, the factor margin of tolerance (epsilon) is set in approximation to the SVM.\n",
    "\n",
    "* The main theme for SVM is always to minimize error, particularize the hyperplane which maximizes the margin, keeping in mind that part of the error is convinced. \n",
    "\n",
    "* Since For the current regression problem consists of a lot of continuous features the application of SVM's can serve a better purpose."
   ]
  },
  {
   "cell_type": "markdown",
   "metadata": {},
   "source": [
    "** Data Preprocessing :-** \n",
    "* It is one of the key phases in the Machine Learning Problems and the complete process and implementation steps are discussed above in the 'DATA PREPROCESSING' Phase of the project."
   ]
  },
  {
   "cell_type": "markdown",
   "metadata": {},
   "source": [
    "**Model Tuning :-**\n",
    "\n",
    "* In this part of the project, I'll apply the GridSearchCV technique to further optimize the best model that was selected from the three supervised learning models stated above.\n",
    "\n",
    "**Grid Search CV:-**\n",
    "\n",
    "* Grid Search technique is an approach for tuning the parameters that are used to build and evaluate a model based on the individual combination of parameters of an algorithm specified in a grid.\n",
    "\n",
    "* Grid Search rigorously checks for the combination of hyper-parameters in order to find the best model.\n",
    "\n",
    "* Finally it's easy to figure out the combination that has high cross validation accuracy with respect to the parameters considered that eventually contribute to the optimization of the learning algorithm"
   ]
  },
  {
   "cell_type": "markdown",
   "metadata": {},
   "source": [
    "** By the next approach, I will chose the best of these of three models, that can be an optimized model for the data set.**\n",
    "\n",
    "** I will then use the performance metric (r2_score) and compare the three potential based on their scores, the model which has the best r2_score will be eventually considered for further analysis.**\n",
    "\n",
    "** Eventually I'll optimize the selected model by 'GridSearchCV' and evaluate the model by comparing the final r2_score of the optimized model and the benchmark model.**"
   ]
  },
  {
   "cell_type": "markdown",
   "metadata": {},
   "source": [
    "## IMPLEMENTATION OF THE COEFFICIENT OF DETERMINATION :- ##"
   ]
  },
  {
   "cell_type": "code",
   "execution_count": 771,
   "metadata": {
    "collapsed": true
   },
   "outputs": [],
   "source": [
    "# Import 'r2_score'\n",
    "from sklearn.metrics import r2_score\n",
    "def performance_metric(y_true, y_predict):\n",
    "    \"\"\" Calculates and returns the performance score between \n",
    "        true and predicted values based on the metric chosen. \"\"\"\n",
    "    \n",
    "    # TODO: Calculate the performance score between 'y_true' and 'y_predict'\n",
    "    score = r2_score(y_true,y_predict)\n",
    "    \n",
    "    # Return the score\n",
    "    return score"
   ]
  },
  {
   "cell_type": "markdown",
   "metadata": {},
   "source": [
    "## SHUFFLING AND SPLITTING THE DATA ##"
   ]
  },
  {
   "cell_type": "code",
   "execution_count": 772,
   "metadata": {},
   "outputs": [
    {
     "name": "stdout",
     "output_type": "stream",
     "text": [
      "Training and testing split was successful.\n"
     ]
    }
   ],
   "source": [
    "# Import 'train_test_split'\n",
    "from sklearn.cross_validation import train_test_split\n",
    "# Shuffle and split the data into training and testing subsets\n",
    "X_train, X_test, y_train, y_test = train_test_split(features,scores,test_size=0.2,train_size=0.8,random_state=10)\n",
    "\n",
    "# Successful shuffle and split of the data\n",
    "print(\"Training and testing split was successful.\")"
   ]
  },
  {
   "cell_type": "markdown",
   "metadata": {},
   "source": [
    "## BENCHMARK MODEL ##"
   ]
  },
  {
   "cell_type": "markdown",
   "metadata": {},
   "source": [
    "** DEFINITION :- **\n",
    "\n",
    "* A Bench Mark Model can be defined as a standard model that already shows a better performance on a given data.The factors on which our results or the solution is tested, are mostly going to be the amount of training/testing data, and then we compare your solution with that of the benchmarked solution obviously based on a performance metric(here r2_score).\n",
    "\n",
    "* The main theme here is to understand which model works delivers the best solution than their existing solution.So, it can be achieved by sheer analysis, implementing standard algorithms and observance and coming to the conclusion that the model shows good solutions or results than the benchmark model's solution.\n",
    "\n",
    "* Since, the problem is a **'Regression'** task , I'm implementing a  **'Linear Regression'** model as my **BenchMark Model**."
   ]
  },
  {
   "cell_type": "code",
   "execution_count": 773,
   "metadata": {},
   "outputs": [],
   "source": [
    "# importing Linear Regression model library from sklearn\n",
    "from sklearn.linear_model import LinearRegression\n",
    "\n",
    "# Create a linear regression object\n",
    "reg = LinearRegression()\n",
    "\n",
    "# Fitting the model using the training sets\n",
    "reg.fit(X_train, y_train)\n",
    "\n",
    "# Making predictions using the testing set\n",
    "y_pred = reg.predict(X_test)"
   ]
  },
  {
   "cell_type": "code",
   "execution_count": 774,
   "metadata": {},
   "outputs": [
    {
     "name": "stdout",
     "output_type": "stream",
     "text": [
      "Model has a coefficient of determination, R^2, of 0.757.\n"
     ]
    }
   ],
   "source": [
    "# Calculating the performance of the model \n",
    "score  = performance_metric(y_test,y_pred)\n",
    "print(\"Model has a coefficient of determination, R^2, of {:.3f}.\".format(score))"
   ]
  },
  {
   "cell_type": "markdown",
   "metadata": {},
   "source": [
    "**Explanation :- **\n",
    "\n",
    "* It is evident that the Linear Regression Model (BenchMark Model) shows a striking performance of 0.757 which means that the target variable('Chance Of Admit') caputerd 75.7% of variance."
   ]
  },
  {
   "cell_type": "markdown",
   "metadata": {},
   "source": [
    "## IMPLEMENTATION ##"
   ]
  },
  {
   "cell_type": "markdown",
   "metadata": {},
   "source": [
    "** In the further section of the project, I'll intuitively select the best out of the three models that I considered for the current problem by using the performance metric(r2_score), based on the results generated, I'll decide best of the three models, which is optimal for the given problem.**"
   ]
  },
  {
   "cell_type": "markdown",
   "metadata": {},
   "source": [
    "## INITIAL MODEL EVALUATION :-##"
   ]
  },
  {
   "cell_type": "markdown",
   "metadata": {},
   "source": [
    "** In this section, I'll clearly show the coding implementation of the three supervised learning models**\n",
    "* Import the necessary libraries and intialize the models and store them in respective variables.\n",
    "* And finally comparing the r2_scores of the three learning models and decide which one is the best."
   ]
  },
  {
   "cell_type": "markdown",
   "metadata": {},
   "source": [
    "**1.** **Decision Tree Regressor**"
   ]
  },
  {
   "cell_type": "code",
   "execution_count": 775,
   "metadata": {},
   "outputs": [
    {
     "name": "stdout",
     "output_type": "stream",
     "text": [
      "Model has a coefficient of determination, R^2, of 0.54.\n"
     ]
    }
   ],
   "source": [
    "# import necessary library\n",
    "from sklearn.tree import DecisionTreeRegressor\n",
    "\n",
    "# Create a Decision Tree Regressor Object\n",
    "dec_reg = DecisionTreeRegressor(random_state=42)\n",
    "\n",
    "# Fitting the model using training sets\n",
    "dec_reg.fit(X_train,y_train)\n",
    "\n",
    "# Making predictions using the testing set\n",
    "dec_pred =  dec_reg.predict(X_test)\n",
    "\n",
    "# Calculating the performance of the decision tree regressor model\n",
    "dec_score = performance_metric(y_test,dec_pred)\n",
    "print(\"Model has a coefficient of determination, R^2, of {:.2f}.\".format(dec_score))"
   ]
  },
  {
   "cell_type": "markdown",
   "metadata": {},
   "source": [
    "**2. Support Vector Regressor **"
   ]
  },
  {
   "cell_type": "code",
   "execution_count": 776,
   "metadata": {},
   "outputs": [
    {
     "name": "stdout",
     "output_type": "stream",
     "text": [
      "Model has a coefficient of determination, R^2, of 0.57.\n"
     ]
    }
   ],
   "source": [
    "# import necessary library\n",
    "from sklearn.svm import SVR\n",
    "\n",
    "# Create a Support Vector Regressor Object\n",
    "svr_reg = SVR()\n",
    "\n",
    "# Fitting the model using training sets\n",
    "svr_reg.fit(X_train,y_train)\n",
    "\n",
    "# Making predictions using the testing set\n",
    "svr_pred =  svr_reg.predict(X_test)\n",
    "\n",
    "# Calculating the performance of the decision tree regressor model\n",
    "svr_score = performance_metric(y_test,svr_pred)\n",
    "print(\"Model has a coefficient of determination, R^2, of {:.2f}.\".format(svr_score))"
   ]
  },
  {
   "cell_type": "markdown",
   "metadata": {},
   "source": [
    "**3. Random Forest Regressor**"
   ]
  },
  {
   "cell_type": "code",
   "execution_count": 777,
   "metadata": {},
   "outputs": [
    {
     "name": "stdout",
     "output_type": "stream",
     "text": [
      "Model has a coefficient of determination, R^2, of 0.71.\n"
     ]
    }
   ],
   "source": [
    "# import necessary library\n",
    "from sklearn.ensemble import RandomForestRegressor\n",
    "\n",
    "# Create a Random Forest Regressor Object\n",
    "rfr_reg = RandomForestRegressor(random_state=42)\n",
    "\n",
    "# Fitting the model using training sets\n",
    "rfr_reg.fit(X_train,y_train)\n",
    "\n",
    "# Making predictions using the testing set\n",
    "rfr_pred =  rfr_reg.predict(X_test)\n",
    "\n",
    "# Calculating the performance of the decision tree regressor model\n",
    "rfr_score = performance_metric(y_test,rfr_pred)\n",
    "#plt.scatter(y_test,y_pred)\n",
    "#plt.show()\n",
    "print(\"Model has a coefficient of determination, R^2, of {:.2f}.\".format(rfr_score))"
   ]
  },
  {
   "cell_type": "markdown",
   "metadata": {},
   "source": [
    "## CHOOSING THE BEST MODEL ##"
   ]
  },
  {
   "cell_type": "markdown",
   "metadata": {},
   "source": [
    "** Since, it is obvious that the model which has best high r2_score when compared to the other models can be termed as the best optimal model for the current problem, as the fact that if :-**\n",
    "   * r2_score is 0 -> it indicates that the model is a worst fit to the given data.\n",
    "   * r2_score is 1 -> it indicates that the model is the best fit to the given data.\n",
    "   * r2_score in between 0 and 1 -> indicates that the respective variability exhibited by the target varaible.\n",
    "\n",
    "** The values can be tabulated as follows :-**"
   ]
  },
  {
   "cell_type": "markdown",
   "metadata": {},
   "source": [
    "#### Results:\n",
    "\n",
    "|     Metric     | Decision Tree Regressor Model | Support Vector Model | Random Forest Regressor Model |\n",
    "| :------------: |             :---------------: |      :-------------: |    :-----------------------:  |\n",
    "|r2 score        |                  0.54         |             0.57     |            0.71               |\n",
    "\n"
   ]
  },
  {
   "cell_type": "markdown",
   "metadata": {},
   "source": [
    "**Intuition :-** **Chossing the best Model**\n",
    "* The major analysis that can be obtained from the above tabulated data is that the 'Random Forest Regressor Model' is the best model among the three, since it exhibits a high score of 0.71i.e, the target variable accounted for about 71% of the variance.\n",
    "\n",
    "* And Support Vector Regressor shows a score of '0.57' which indicates that 57% is accounted for the target variable..\n",
    "\n",
    "* Decision Tree Regressor shows a decent score of '0.54' which indicates that 54% is accounted for the target variable."
   ]
  },
  {
   "cell_type": "markdown",
   "metadata": {},
   "source": [
    "## REFINEMENT ##"
   ]
  },
  {
   "cell_type": "markdown",
   "metadata": {},
   "source": [
    "** In this section of the project, the model('Random Forest Regressor Model') is optimized by the application of 'GridSearchCV' technique for fine tuning the parameters for the final model thus choosen and later calculating the performance metric(r2_score) of the optimized model.**"
   ]
  },
  {
   "cell_type": "markdown",
   "metadata": {},
   "source": [
    "## MODEL TUNING##\n",
    "\n",
    "** Here, I will find the implementaion of GridSearchCV by intially importing the libraries sklearn.grid_search.GridSearchCV and sklearn.metrics.make_scorer.**\n",
    "\n",
    "** 1. Initialize the regressor('Random Forest Regressor Model') and store it in the varaible 'lgr_grid'.**\n",
    "\n",
    "** 2. Creating a dictionary of parameters, in the variable parameters.**\n",
    "\n",
    "** 3. Using make_scorer to create a r2_score scoring object. -> scorer**\n",
    "\n",
    "** 4. Perform Grid Search on the Regressor lgr_grid using the 'scorer', and store it in grid_obj.**\n",
    "\n",
    "** 5. Fit the Grid Search Object to the training data (X_train, y_train) and store it in the grid_fit.**"
   ]
  },
  {
   "cell_type": "code",
   "execution_count": 784,
   "metadata": {},
   "outputs": [],
   "source": [
    "# importing necessary libraries\n",
    "from sklearn.ensemble import RandomForestRegressor\n",
    "from sklearn.metrics import make_scorer\n",
    "from sklearn.grid_search import GridSearchCV\n",
    "\n",
    "\n",
    "def fit_model(X_train,y_train):\n",
    "    # Initialize the Regressor\n",
    "    lgr_grid = RandomForestRegressor(random_state=42)\n",
    "    \n",
    "    # Create the parameters list to tune.\n",
    "    params = {\"n_estimators\"      : [105,205,305],\n",
    "              \"max_features\"      : [\"auto\", \"sqrt\", \"log2\"],\n",
    "              \"min_samples_split\" : [2,4,8],\n",
    "              \"bootstrap\": [True, False]}\n",
    "    \n",
    "    # Make an r2_scorer scoring object using make_scorer()\n",
    "    scorer = make_scorer(performance_metric)\n",
    "\n",
    "    # Perform grid search on the classifier using 'scorer' as the scoring method using GridSearchCV()\n",
    "    grid_obj = GridSearchCV(lgr_grid,params,scoring=scorer)\n",
    "\n",
    "    # Fit the grid search object to the training data and find the optimal parameters using fit()\n",
    "    grid_fit = grid_obj.fit(X_train,y_train)\n",
    "\n",
    "    # calculate the estimator\n",
    "    best_clf = grid_fit.best_estimator_\n",
    "\n",
    "    # Return the optimal model after fitting the data\n",
    "    best_predictions = best_clf.predict(X_test)\n",
    "\n",
    "    return grid_fit.best_estimator_"
   ]
  },
  {
   "cell_type": "code",
   "execution_count": 785,
   "metadata": {},
   "outputs": [
    {
     "name": "stdout",
     "output_type": "stream",
     "text": [
      "regression score of 0.761\n"
     ]
    }
   ],
   "source": [
    "rfrr_reg = fit_model(X_train, y_train)\n",
    "rfrr_pred = rfrr_reg.predict(X_test)\n",
    "print(\"regression score of {:.3f}\".format(performance_metric(y_test,rfrr_pred)))\n",
    "# Produce the value for 'max_depth'\n",
    "#print(\"Parameter 'max_depth' is {} for the optimal model.\".format(reg.get_params()['max_depth']))"
   ]
  },
  {
   "cell_type": "markdown",
   "metadata": {},
   "source": [
    "** Observation :-**\n",
    "\n",
    "* It is quite obvious that the 'Random Forest Regressor' Model showed a best improvement upon Model Tuning using the GridSearchCV technique.\n",
    "\n",
    "* We can observe the trend of the improvement by the values tabulated as follows :-\n",
    "\n",
    "\n",
    "\n",
    "|     Metric     |    Random Forest Regressor(Before Tuning)       | Random Forest Regressor Model(After Tuning) |\n",
    "| :------------: |       :---------------:                         |         :-----------------------:           |\n",
    "|   r2 score     |                  0.71                           |                     0.761                   |\n"
   ]
  },
  {
   "cell_type": "markdown",
   "metadata": {},
   "source": [
    "** It is quite evident from the table that the Random Forest Regressor showed a good improvement upon optimization by the target variable accounting for about 76.1% of the variance.**"
   ]
  },
  {
   "cell_type": "markdown",
   "metadata": {},
   "source": [
    "## FINAL MODEL EVALUATION ##"
   ]
  },
  {
   "cell_type": "markdown",
   "metadata": {},
   "source": [
    "** In this part of the project I'll demonstrate the comparison of the performances between the BenchMark Model('Linear Regressor') and the Opmital Model('Random Tree Regressor') based on their performance metrics(r2_score) in a tabular form.**\n",
    "\n",
    "\n",
    "#### Results\n",
    "\n",
    "\n",
    "\n",
    "|     Metric     |        Linear Regressor Model(BenchMark Model)  | Random Forest Regressor Model(Optimal Model)|\n",
    "| :------------: |       :---------------:                         |         :-----------------------:           |\n",
    "|   r2 score     |                  0.757                          |                     0.761                   |\n",
    "\n"
   ]
  },
  {
   "cell_type": "markdown",
   "metadata": {},
   "source": [
    "#### Observation :-\n",
    "\n",
    "** Although the performances of the BenchMark Model and the Optimal Model thus considered are quite figurative and are literally showing nearly similar performances, it is quite evident that the Random Forest Regressor Model(Optimal Model) shows an awesome performance than the Linear Regressor Model(BenchMark Model).**\n",
    "\n",
    "** And it is quite obvious that Random Forest Regressor Model i.e., Optimal Model shows a better performance on the input dataset.**"
   ]
  },
  {
   "cell_type": "markdown",
   "metadata": {},
   "source": [
    "## MODEL VALIDATION ##"
   ]
  },
  {
   "cell_type": "markdown",
   "metadata": {},
   "source": [
    "**In this part of the project, I'll demonstrate the performance of the Best Model for the given regression task i.e., The Optimal Model aganist unseen data.**"
   ]
  },
  {
   "cell_type": "markdown",
   "metadata": {},
   "source": [
    "### Task - Predicting The Ratings of Chance Of Admit \n",
    "\n",
    "** Imagine that there are four students who want to pursue Masters Program in the United States Of America and for that they have already written and arranged all the prerequisites like GRE Scores, TOEFL Scores etc. they now want to know the chances of being admitted to the university of a specific rating for which they are willing to study.**\n",
    "\n",
    "** Reckon that the data of the three students are as follows :-**\n",
    "\n",
    "|Feature | Student 1 | Student 2 | Student 3  |  Student 4  |\n",
    "| :----: | :-------: |  :------: | :--------: |  :-------:  |\n",
    "|GRE SCORE|   320    |   315     |   330      |    222      |\n",
    "|TOEFL SCORE| 115    |   118     |   116      |    120      |\n",
    "|University Rating|4.5 |   4     |    5       |    4.5      |\n",
    "|SOP     |   4       |     4.5   |    5       |     4       |\n",
    "| LOR    |   4       |     3.5   |   4.5      |     5       |\n",
    "| CGPA   |   9.85    |     9.65  |   9.71     |    9.92     |\n",
    "|Reseach |   1       |    0      |    1       |    1        |"
   ]
  },
  {
   "cell_type": "code",
   "execution_count": 787,
   "metadata": {},
   "outputs": [
    {
     "name": "stdout",
     "output_type": "stream",
     "text": [
      "Predicted chance of admit ratings for Student 1's: 0.90\n",
      "Predicted chance of admit ratings for Student 2's: 0.83\n",
      "Predicted chance of admit ratings for Student 3's: 0.94\n",
      "Predicted chance of admit ratings for Student 4's: 0.83\n"
     ]
    }
   ],
   "source": [
    "# Following is the code for predicting the chance of admit rating by considering the Random Forest Regressor Model i.e.,The Optimal Model \n",
    "#k_scores = reg.feature_importances_\n",
    "# Producing a matrix for the student data\n",
    "student_data = [[320,115,4.5,4,4,9.85,1],\n",
    "                [315,118,4,4.5,3.5,9.65,0],\n",
    "                [330,116,5,5,4.5,9.71,1],\n",
    "                [222,120,4.5,4,5,9.92,1]]\n",
    "# Displaying the results\n",
    "#print(k_scores)\n",
    "#print student_data\n",
    "#print reg.predict(student_data)\n",
    "#plt.plot(reg.predict(student_data),student_data)\n",
    "#plt.show()\n",
    "for i, score in enumerate(rfrr_reg.predict(student_data)):\n",
    "    print(\"Predicted chance of admit ratings for Student {}'s: {:,.2f}\".format(i+1, score))"
   ]
  },
  {
   "cell_type": "markdown",
   "metadata": {},
   "source": [
    "** Intuition :-**\n",
    "\n",
    "* For Student-1 the predicted score is quite accurate because has a significant good scores in GRE, TOEFL,and CGPA, and also has research experience and the university that he is willing to get admitted is a high rated one i.e, 4.5 it expects the students with reasonably high scores than good scores, so chances for getting an admission is possible pretty easily of his performance and hence the admit rate is also very high.\n",
    "\n",
    "* For Student-2 the predicted score is accurate because he has a considerably good scores in GRE, TOEFL and CGPA but he doesn't have any research experience and also has the aspiration for getting an admission in a high rated university. These factors might hindered his admitting chance rate to an above average one.\n",
    "\n",
    "* For Student-3 the predicted score is accurate because he has a consistent good scores in GRE, TOEFL, CGPA and also has a research experience. Since the scores are pretty high and also has the aspiration for getting an admission in a high rated university which can be possible pretty easily of his performance and hence the admit rate is also very high.\n",
    "\n",
    "* For Student-4 the the predicted score is accurate because although he has good TOEFL and CGPA scores and indeed having a researhc experience, it is quite evident that he has pretty low GRE Score and also has the  aspiration for getting an admission in a high rated university, but due to low score in GRE, his chances of admission were dropped to above average rating."
   ]
  },
  {
   "cell_type": "markdown",
   "metadata": {},
   "source": [
    "## JUSTIFICATION ##"
   ]
  },
  {
   "cell_type": "markdown",
   "metadata": {},
   "source": [
    "** By observing the validation results above, it is quite evident that the model is performing well on the given data.**\n",
    "\n",
    "** When compared to the BenchMark Model, the Optimal Model('Random Forest Regressor Model') indeed shows a striking performance as shown in the Table-4 of the 'Final Model Evaluation' section.**\n",
    "  * Although the performance scores are so close and similar, it is likely to understand that the Optimal Model('Random Forest Regressor Model') holds a tight control in generalizing the input data.\n",
    "  * The performance of the BenchMark Model is 75.7 % and that of the Optimal Model is 76.1%.\n",
    "\n",
    "\n",
    "\n",
    "** It is also important to note that the individuals chances of getting an admission in their dream university are predominantly dependent on his/her performance in the prerequisite tests and will to succeed in their respecive careers.**\n",
    "\n",
    "** The model can be applied or is useful for students who are aspiring for a certain university of their desire to pursue their education and build their career.**\n",
    "\n",
    "** In summary the application of the model is quite useful only in the domain of 'Education' and that the data should be very  consistent that if any miscrepancies in the features may lead to bad predictions i.e., a good student may get a bad prediction and a student with ill IQ can gain advantage of it.**"
   ]
  },
  {
   "cell_type": "markdown",
   "metadata": {},
   "source": [
    "## FREE FORM VISUALIZATION ##"
   ]
  },
  {
   "cell_type": "markdown",
   "metadata": {},
   "source": [
    "** In this part of the project, I'll illustrate the most important features in the final model using \"feature_importances_\" attribute of the regressor and plot them nicely using a bar graph and provide intuition about them.**"
   ]
  },
  {
   "cell_type": "markdown",
   "metadata": {},
   "source": [
    "#### Process\n",
    "\n",
    "* Initialize the 'feature_importances_' attribute of the regressor and store in the best_model variable.\n",
    "* Then pass it to the 'feature_plotbest' function that nicely plots the important attributes in a bar plot.\n",
    "* Finally a brief discussion on the consideration of those features in the project."
   ]
  },
  {
   "cell_type": "markdown",
   "metadata": {},
   "source": [
    "#### Coding Implementation"
   ]
  },
  {
   "cell_type": "code",
   "execution_count": 788,
   "metadata": {
    "collapsed": true
   },
   "outputs": [],
   "source": [
    "# feature plot function which plots the important features interactively.\n",
    "\n",
    "def feature_plotbest(model_features, X_train, y_train):\n",
    "    \n",
    "    # Extracting the five most significant features from the \n",
    "    feature_indices = np.argsort(model_features)[::-1]\n",
    "    feature_columns = X_train.columns.values[feature_indices[:5]]\n",
    "    values = model_features[feature_indices][:5]\n",
    "\n",
    "    # Create the plot\n",
    "    plt.figure(figsize = (9,5))\n",
    "    # Creating a title for the graph\n",
    "    plt.title(\"Featured Weights for First Five Most Predictive Features\", fontsize = 16)\n",
    "    \n",
    "    #plotting the bar plot intuitively\n",
    "    plt.bar(np.arange(5), values, width = 0.6, align=\"center\", color = 'red', label = \"Feature Weight\")\n",
    "    \n",
    "    plt.xticks(np.arange(5), feature_columns)\n",
    "    plt.xlim((-0.5, 4.5))\n",
    "    # labelling the y-axis\n",
    "    plt.ylabel(\"Weight\")\n",
    "    # labelling the x-axis\n",
    "    plt.xlabel(\"Feature\")\n",
    "    # labelling the legend\n",
    "    plt.legend(loc = 'upper center')\n",
    "    plt.tight_layout()\n",
    "    plt.show()  "
   ]
  },
  {
   "cell_type": "code",
   "execution_count": 790,
   "metadata": {
    "scrolled": true
   },
   "outputs": [
    {
     "data": {
      "image/png": "[encoded data removed]",
      "text/plain": [
       "<matplotlib.figure.Figure at 0xe5d9230>"
      ]
     },
     "metadata": {},
     "output_type": "display_data"
    }
   ],
   "source": [
    "# Extracting the best features from the best model i.e, the Optimal Model using 'feature_importances_' \n",
    "# attribute of the Random Forest Regressor\n",
    "model_best_features = rfrr_reg.feature_importances_\n",
    "\n",
    "# Calling the function 'feature_plotbest' to intuitively plotting the best features of the best model for the data set.\n",
    "feature_plotbest(model_best_features, X_train, y_train)"
   ]
  },
  {
   "cell_type": "markdown",
   "metadata": {},
   "source": [
    "** Intuition for the visualization of Feature Importance :- **"
   ]
  },
  {
   "cell_type": "markdown",
   "metadata": {},
   "source": [
    "* From the bar plot it is quite clearly visualized about the most important features that contribute to the 'Chance of Admit' rating.\n",
    "\n",
    "* The features are :-\n",
    "   * CGPA\n",
    "   * GRE Score\n",
    "   * TOEFL Score\n",
    "   * Univerity Rating\n",
    "   * Letter Of Recommendation (LOR)\n",
    "   \n",
    "* By the visualization I can state that the results were accurate because of the following characteristics regarding the data:-\n",
    "  * Every University in the United States of high profile always expects the students who are having very good performance in their under graduation studies.So, it is quite clear that it is the most preferred feature for an individual's chances of getting an admission.\n",
    "  * The second important factor in the determination of an individual's chances for getting an admission in abroad universities especially for the high profiled US universities is the GRE score.Hence, it is quite clearly preferred feature for an individual's chances of getting an admission in a specific university.\n",
    "  * The third most important factor in determining the individual's admission opportunities is the TOEFL(Test For English As A Foreign Language) score, which checks for the English understanding skills of the individual. Hence, it is clearly mentioned feature that plays a crucial role in the individual's chances for gettign an admission in the specific university.\n",
    "  * The fourth important feature is the University Rating feature, which tells about the university rating that the individual is interested in getting an admission for. The greater the rating of a specific university, the harder the chances of admission and higher the facilities and standards.\n",
    "  * The final feature is the LOR(Letter of Recommendation), which is a formal letter describing the individual's personal strength's and capabilities written to and observed by the universities and determine the skill set of the individual, it definitely plays a good role in improving the individual's chance of getting admission opportunities."
   ]
  },
  {
   "cell_type": "markdown",
   "metadata": {},
   "source": [
    "## REFLECTION ##"
   ]
  },
  {
   "cell_type": "markdown",
   "metadata": {},
   "source": [
    "** The process used for this project can be summarized using the following steps:-**\n",
    "\n",
    "1. A Common Problem on Graduate Admissions is found in \"Kaggle\" and the data set related to it is acquired from the Public Domain.\n",
    "2. The Dataset was downloaded and loaded for the current project and necessary statistics were calculated.\n",
    "3. The Data Set is Explored with scatter-plots to illustrate the correlation of the input features with respect to the target variable.\n",
    "4. The Data Set is preprocessed using the technique \"Feature Selection\" and irrelevant attributes are removed from the dataset.\n",
    "5. A function is designed that calculates the performance metric r2_score and returns that score.\n",
    "6. The data is splitted into 80% training and 20% testing data.\n",
    "7. A BenchMark was created for the Regressor i.e, here Linear Regressor acts as a BenchMark Model and is trained using the training data.\n",
    "8. Then three supervised learning models were trained using the training data and a comparision is done based on the performance metric and decided which among the three is the best model.\n",
    "9. The best model thus selected is optimized by the application of 'GridSearchCV'.\n",
    "10. The optimized model is then compared with the BenchMark Model and came to the conclusion that the Optimzed Model shows a better performance than the BenchMark model.\n",
    "11. Finally the Optimized Model which is selected as the best model for the input data is validated aganist unseen data and the performance and intuition was documented clearly.\n",
    "\n",
    "\n",
    "* I personally found the steps 3 and 4 most challenging because I have to completely understand my data and draw relevant intuition from it. And I literally struggled very hard on 'Feature Selection' step and took a long research to implement Recursive Feature Elimination(RFE) to my data set and eliminate the irrelevant attributes which were quite challenging because I came with a lot of background understanding about the dataset before actually removing the irrelevant features from the dataset because the most important features were actually termed as irrelevant for which I later on went to explain the reason behind the relevancy and only removed those features that actually had no relevance at all.\n",
    "\n",
    "* Regarding the interesting aspects of the project, the dataset itself is very consistent and very useful since it gives good insight in the active problems that is being common in the minds of the individuals who are planning to study abroad because there are a lot of factors that the universities consider in order to provide admissions to individuals.Hence, I'm glad to say that I devised a model that could actually understand the score patterns of the individuals and determine their chance of admission in the respective university they wish to pursue their career goals.\n",
    "\n",
    "* This model can actually be used in the public domain where people can actually check their probability of admission rates in abroad countries especially United States Of America by feeding the models with certain prerequisites like GRE Scores and TOEFL Scores etc."
   ]
  },
  {
   "cell_type": "markdown",
   "metadata": {},
   "source": [
    "## IMPROVEMENT ##"
   ]
  },
  {
   "cell_type": "markdown",
   "metadata": {},
   "source": [
    "** Potentially the 'Data Preprocessing' phase is the crucial part of any Machine Learning Problem, Since during this phase we can potentially identify the flaws in the data set that could actually mess the results and performance of the model thus considered.**\n",
    "  * Hence, removing irrelevant data during this phase can predominantly increase the model's performance and can benefit in generalized results.\n",
    "  * But I personally feel that the feature selection that I used is good but there are other techniques that are used for the application of Feature Selection.\n",
    "  * Since, this is a regression task, the Wrapper Method implementation i.e., RFE may not be the best one.\n",
    "  * There is also room for trying Embedded method such as LASSO and  Elastic Net and Ridge Regression that don't need the external implementation of the feature selection techniques , since these methods have embedded feature selection and regularization built in. It's worth a trial, since there is always scope for improving the model performance aganist the given dataset.\n",
    "  * Further more, some ensemble methods such as 'XGBOOST' should also take care of larger data dimensions and these methods can themselves be used for feature selection.\n",
    "\n",
    "\n",
    "**There are lot of other possibilites that can make the feature selection more intuitive and literally I am new to this and the 'Feature Selection' implementation gave me a hard core challenging of applying it in real time.**"
   ]
  }
 ],
 "metadata": {
  "kernelspec": {
   "display_name": "Python 3",
   "language": "python",
   "name": "python3"
  },
  "language_info": {
   "codemirror_mode": {
    "name": "ipython",
    "version": 3
   },
   "file_extension": ".py",
   "mimetype": "text/x-python",
   "name": "python",
   "nbconvert_exporter": "python",
   "pygments_lexer": "ipython3",
   "version": "3.6.3"
  }
 },
 "nbformat": 4,
 "nbformat_minor": 2
}
